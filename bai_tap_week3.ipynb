{
  "nbformat": 4,
  "nbformat_minor": 0,
  "metadata": {
    "colab": {
      "provenance": [],
      "authorship_tag": "ABX9TyNw4pWKY7cx9nIJyHuxxhp/",
      "include_colab_link": true
    },
    "kernelspec": {
      "name": "python3",
      "display_name": "Python 3"
    },
    "language_info": {
      "name": "python"
    }
  },
  "cells": [
    {
      "cell_type": "markdown",
      "metadata": {
        "id": "view-in-github",
        "colab_type": "text"
      },
      "source": [
        "<a href=\"https://colab.research.google.com/github/ngohuy1811/AIO-Module/blob/main/bai_tap_week3.ipynb\" target=\"_parent\"><img src=\"https://colab.research.google.com/assets/colab-badge.svg\" alt=\"Open In Colab\"/></a>"
      ]
    },
    {
      "cell_type": "code",
      "source": [
        "# Cau 1:\n",
        "import torch\n",
        "import torch.nn as nn\n",
        "\n",
        "class Softmax(nn.Module):\n",
        "  def __init__(self):\n",
        "    super().__init__()\n",
        "\n",
        "  def forward(self, x):\n",
        "    exp_x = torch.exp(x)\n",
        "    sum_exp_x = torch.sum(exp_x)\n",
        "    softmax_output = exp_x / sum_exp_x\n",
        "    return softmax_output\n",
        "\n",
        "data = torch.Tensor([1, 2, 3])\n",
        "softmax = Softmax()\n",
        "output = softmax(data)\n",
        "\n",
        "print(\"Softmax Output:\", output)"
      ],
      "metadata": {
        "colab": {
          "base_uri": "https://localhost:8080/"
        },
        "id": "WQrd8Iu2tIos",
        "outputId": "f11bf220-338d-4c46-c66a-dd6a44d169c0"
      },
      "execution_count": 25,
      "outputs": [
        {
          "output_type": "stream",
          "name": "stdout",
          "text": [
            "Softmax Output: tensor([0.0900, 0.2447, 0.6652])\n"
          ]
        }
      ]
    },
    {
      "cell_type": "code",
      "source": [
        "class SoftmaxStable(nn.Module):\n",
        "    def __init__(self):\n",
        "        super().__init__()\n",
        "\n",
        "    def forward(self, x):\n",
        "        x_max = torch.max(x)\n",
        "        exp_x = torch.exp(x - x_max)\n",
        "        sum_exp_x = torch.sum(exp_x)\n",
        "        softmax_output = exp_x / sum_exp_x\n",
        "        return softmax_output\n",
        "\n",
        "softmax_stable = SoftmaxStable()\n",
        "output_stable = softmax_stable(data)\n",
        "\n",
        "print(\"Stable Softmax Output:\", output_stable)"
      ],
      "metadata": {
        "colab": {
          "base_uri": "https://localhost:8080/"
        },
        "id": "s9S0wHcY9cGj",
        "outputId": "10675f6d-3ba9-443e-c0bf-4d0c36dd6285"
      },
      "execution_count": 26,
      "outputs": [
        {
          "output_type": "stream",
          "name": "stdout",
          "text": [
            "Stable Softmax Output: tensor([0.0900, 0.2447, 0.6652])\n"
          ]
        }
      ]
    },
    {
      "cell_type": "code",
      "execution_count": null,
      "metadata": {
        "colab": {
          "base_uri": "https://localhost:8080/"
        },
        "id": "UWxfsfUR30jr",
        "outputId": "9d3502d1-e470-4d33-c695-e6503cd955f9"
      },
      "outputs": [
        {
          "output_type": "stream",
          "name": "stdout",
          "text": [
            "Student - Name:  studentA  - YoB: 2010 - Grade: 7\n",
            "Teacher - Name:  teacherA  - YoB: 1969 - Subject:  Math \n",
            "Doctor - Name: doctorA - YoB: 1945 - Specialist:  Endocrinologists \n"
          ]
        }
      ],
      "source": [
        "# Cau 2a:\n",
        "class Student:\n",
        "  def __init__(self, name, yob, grade):\n",
        "    self.name = name\n",
        "    self.yob = yob\n",
        "    self.grade = grade\n",
        "  def describe(self):\n",
        "    print(f'Student - Name: {self.name} - YoB: {self.yob} - Grade: {self.grade}')\n",
        "\n",
        "class Doctor:\n",
        "  def __init__(self, name, yob,specialist):\n",
        "    self.name = name\n",
        "    self.yob = yob\n",
        "    self.specialist = specialist\n",
        "  def describe(self):\n",
        "    print(f'Doctor - Name: {self.name} - YoB: {self.yob} - Specialist: {self.specialist}')\n",
        "\n",
        "class Teacher:\n",
        "  def __init__(self, name, yob, subject):\n",
        "    self.name = name\n",
        "    self.yob = yob\n",
        "    self.subject = subject\n",
        "  def describe(self):\n",
        "    print(f'Teacher - Name: {self.name} - YoB: {self.yob} - Subject: {self.subject}')\n",
        "\n",
        "#Test case\n",
        "student1 = Student ( name =\" studentA \", yob =2010 , grade =\"7\")\n",
        "student1.describe()\n",
        "\n",
        "teacher1 = Teacher ( name =\" teacherA \", yob =1969 , subject =\" Math \")\n",
        "teacher1.describe()\n",
        "\n",
        "doctor1 = Doctor ( name = 'doctorA', yob =1945 , specialist =\" Endocrinologists \")\n",
        "doctor1.describe()"
      ]
    },
    {
      "cell_type": "code",
      "source": [
        "# Cau 2 b,c\n",
        "class Ward:\n",
        "  def __init__(self, name):\n",
        "    self.name = name\n",
        "    self.ward_list = []\n",
        "\n",
        "  def add_person(self, person):\n",
        "      self.ward_list.append(person)\n",
        "\n",
        "  def describe(self):\n",
        "      print(f'Ward - Name: {self.name}')\n",
        "      for person in self.ward_list:\n",
        "          person.describe()\n",
        "\n",
        "  def count_doctor(self):\n",
        "        count = sum(isinstance(person, Doctor) for person in self.ward_list)\n",
        "        return count\n",
        "\n",
        "  def sort_age(self):\n",
        "        self.ward_list.sort(key=lambda x: x.yob, reverse=True)\n",
        "\n",
        "  def compute_average(self):\n",
        "        teacher_yobs = [person.yob for person in self.ward_list if isinstance(person, Teacher)]\n",
        "        if teacher_yobs:\n",
        "            average_yob = sum(teacher_yobs) / len(teacher_yobs)\n",
        "            return average_yob\n",
        "        else:\n",
        "            return None\n",
        "\n",
        "\n",
        "#test case\n",
        "teacher2 = Teacher ( name =\" teacherB \", yob =1995 , subject =\" History \")\n",
        "doctor2 = Doctor ( name =\" doctorB \", yob =1975 , specialist =\" Cardiologists \")\n",
        "ward1 = Ward( name =\" Ward1 \")\n",
        "ward1.add_person ( student1 )\n",
        "ward1.add_person ( teacher1 )\n",
        "ward1.add_person ( teacher2 )\n",
        "ward1.add_person ( doctor1 )\n",
        "ward1.add_person ( doctor2 )\n",
        "ward1.describe ()\n",
        "print ( f\"Number of doctors : {ward1.count_doctor()}\")\n",
        "\n",
        "\n",
        "\n"
      ],
      "metadata": {
        "colab": {
          "base_uri": "https://localhost:8080/"
        },
        "id": "AyLyc7YwYksQ",
        "outputId": "70a49474-ad58-4472-ce2e-7b3f563942a9"
      },
      "execution_count": null,
      "outputs": [
        {
          "output_type": "stream",
          "name": "stdout",
          "text": [
            "Ward - Name:  Ward1 \n",
            "Student - Name:  studentA  - YoB: 2010 - Grade: 7\n",
            "Teacher - Name:  teacherA  - YoB: 1969 - Subject:  Math \n",
            "Teacher - Name:  teacherB  - YoB: 1995 - Subject:  History \n",
            "Doctor - Name: doctorA - YoB: 1945 - Specialist:  Endocrinologists \n",
            "Doctor - Name:  doctorB  - YoB: 1975 - Specialist:  Cardiologists \n",
            "Number of doctors : 2\n"
          ]
        }
      ]
    },
    {
      "cell_type": "code",
      "source": [
        "#Cau 2 d\n",
        "print (\"After sorting Age of Ward1 people \")\n",
        "ward1.sort_age ()\n",
        "ward1.describe ()"
      ],
      "metadata": {
        "colab": {
          "base_uri": "https://localhost:8080/"
        },
        "id": "FX-nu2cplRSd",
        "outputId": "9fb06edf-ae0b-48d8-9886-dbb948f9f6cc"
      },
      "execution_count": null,
      "outputs": [
        {
          "output_type": "stream",
          "name": "stdout",
          "text": [
            "After sorting Age of Ward1 people \n",
            "Ward - Name:  Ward1 \n",
            "Student - Name:  studentA  - YoB: 2010 - Grade: 7\n",
            "Teacher - Name:  teacherB  - YoB: 1995 - Subject:  History \n",
            "Doctor - Name:  doctorB  - YoB: 1975 - Specialist:  Cardiologists \n",
            "Teacher - Name:  teacherA  - YoB: 1969 - Subject:  Math \n",
            "Doctor - Name: doctorA - YoB: 1945 - Specialist:  Endocrinologists \n"
          ]
        }
      ]
    },
    {
      "cell_type": "code",
      "source": [
        "#Cau 2 e\n",
        "print (f\"Average year of birth ( teachers ): {ward1.compute_average ()}\")"
      ],
      "metadata": {
        "colab": {
          "base_uri": "https://localhost:8080/"
        },
        "id": "h0ZevKY7l0L1",
        "outputId": "852862ae-6876-4caa-a8ec-c63c162e7307"
      },
      "execution_count": null,
      "outputs": [
        {
          "output_type": "stream",
          "name": "stdout",
          "text": [
            "Average year of birth ( teachers ): 1982.0\n"
          ]
        }
      ]
    },
    {
      "cell_type": "code",
      "source": [
        "#Cau 3\n",
        "\n",
        "class MyStack:\n",
        "  def __init__(self, capacity):\n",
        "    self.data = []\n",
        "    self.capacity = capacity\n",
        "\n",
        "  def push(self,value):\n",
        "      self.data.append(value)\n",
        "\n",
        "  def pop(self):\n",
        "    return self.data.pop(0)\n",
        "\n",
        "  def is_empty(self):\n",
        "    return len(self.data) == 0\n",
        "\n",
        "  def is_full(self):\n",
        "    return len(self.data) == self.capacity\n",
        "\n",
        "  def top(self):\n",
        "    return self.data[0]\n",
        "\n",
        "#Test\n",
        "stack1 = MyStack ( capacity =5)\n",
        "stack1 . push (1)\n",
        "stack1 . push (2)\n",
        "\n",
        "print (stack1.is_full () )\n",
        "print (stack1.top () )\n",
        "print (stack1.pop () )\n",
        "print ( stack1 . top () )\n",
        "print ( stack1 . pop () )\n",
        "print ( stack1 . is_empty () )"
      ],
      "metadata": {
        "colab": {
          "base_uri": "https://localhost:8080/"
        },
        "id": "k6uSKndvp7yU",
        "outputId": "3fd84b1a-7e22-4531-fd7b-143f7c6b3b16"
      },
      "execution_count": null,
      "outputs": [
        {
          "output_type": "stream",
          "name": "stdout",
          "text": [
            "False\n",
            "1\n",
            "1\n",
            "2\n",
            "2\n",
            "True\n"
          ]
        }
      ]
    },
    {
      "cell_type": "code",
      "source": [
        "#Cau 4\n",
        "class MyQueue:\n",
        "  def __init__(self, capacity):\n",
        "    self.data = []\n",
        "    self.capacity = capacity\n",
        "\n",
        "  def enqueue(self,value):\n",
        "      self.data.append(value)\n",
        "\n",
        "  def dequeue(self):\n",
        "    return self.data.pop(0)\n",
        "\n",
        "  def is_empty(self):\n",
        "    return len(self.data) == 0\n",
        "\n",
        "  def is_full(self):\n",
        "    return len(self.data) == self.capacity\n",
        "\n",
        "  def front(self):\n",
        "    return self.data[0]\n",
        "\n",
        "queue1 = MyQueue ( capacity =5)\n",
        "queue1 . enqueue (1)\n",
        "queue1 . enqueue (2)\n",
        "print ( queue1 . is_full () )\n",
        "print ( queue1 . front () )\n",
        "print ( queue1 . dequeue () )\n",
        "print ( queue1 . front () )\n",
        "print ( queue1 . dequeue () )\n",
        "print ( queue1 . is_empty () )\n"
      ],
      "metadata": {
        "colab": {
          "base_uri": "https://localhost:8080/"
        },
        "id": "cV0xTI2UrgAf",
        "outputId": "3a1961d9-9634-447e-a86a-1641aa4be1dd"
      },
      "execution_count": null,
      "outputs": [
        {
          "output_type": "stream",
          "name": "stdout",
          "text": [
            "False\n",
            "1\n",
            "1\n",
            "2\n",
            "2\n",
            "True\n"
          ]
        }
      ]
    },
    {
      "cell_type": "code",
      "source": [
        "#Trac nghiem 1/c\n",
        "import torch\n",
        "import torch.nn as nn\n",
        "\n",
        "data = torch.Tensor ([1 , 2 , 3])\n",
        "softmax_function = nn.Softmax ( dim =0)\n",
        "output = softmax_function ( data )\n",
        "assert round ( output [0]. item () , 2) == 0.09\n",
        "output"
      ],
      "metadata": {
        "colab": {
          "base_uri": "https://localhost:8080/"
        },
        "id": "5PIA4L_54EDX",
        "outputId": "0c59ff74-3835-44cc-fe49-ab1eba34dbc1"
      },
      "execution_count": null,
      "outputs": [
        {
          "output_type": "execute_result",
          "data": {
            "text/plain": [
              "tensor([0.0900, 0.2447, 0.6652])"
            ]
          },
          "metadata": {},
          "execution_count": 45
        }
      ]
    },
    {
      "cell_type": "code",
      "source": [
        "#Trac nghiem 2/b\n",
        "import torch\n",
        "import torch.nn as nn\n",
        "\n",
        "class MySoftmax (nn.Module ) :\n",
        "  def __init__ ( self ) :\n",
        "    super ().__init__ ()\n",
        "\n",
        "  def forward ( self , x ) :\n",
        "    exp_x = torch.exp ( x )\n",
        "    sum_exp_x = torch.sum(exp_x)\n",
        "    return exp_x / sum_exp_x\n",
        "\n",
        "data = torch . Tensor ([5 , 2 , 4])\n",
        "my_softmax = MySoftmax ()\n",
        "output = my_softmax ( data )\n",
        "assert round ( output [ -1]. item () , 2) == 0.26\n",
        "output"
      ],
      "metadata": {
        "colab": {
          "base_uri": "https://localhost:8080/"
        },
        "id": "2beXSBoj4an8",
        "outputId": "5b742874-3742-4d21-ee0e-1f7e7347f65c"
      },
      "execution_count": null,
      "outputs": [
        {
          "output_type": "execute_result",
          "data": {
            "text/plain": [
              "tensor([0.7054, 0.0351, 0.2595])"
            ]
          },
          "metadata": {},
          "execution_count": 49
        }
      ]
    },
    {
      "cell_type": "code",
      "source": [
        "#Trac nghiem 3/c\n",
        "import torch\n",
        "import torch.nn as nn\n",
        "\n",
        "class MySoftmax (nn.Module ) :\n",
        "  def __init__ ( self ) :\n",
        "    super ().__init__ ()\n",
        "\n",
        "  def forward ( self , x ) :\n",
        "    exp_x = torch.exp ( x )\n",
        "    sum_exp_x = torch.sum(exp_x)\n",
        "    return exp_x / sum_exp_x\n",
        "\n",
        "data = torch . Tensor ([1 , 2 , 300000000])\n",
        "my_softmax = MySoftmax ()\n",
        "output = my_softmax ( data )\n",
        "assert round ( output [0]. item () , 2) == 0.0\n",
        "output\n"
      ],
      "metadata": {
        "colab": {
          "base_uri": "https://localhost:8080/"
        },
        "id": "7CUzt143_ed1",
        "outputId": "8e9ca64b-4898-4e08-c129-b4edecb58ccd"
      },
      "execution_count": null,
      "outputs": [
        {
          "output_type": "execute_result",
          "data": {
            "text/plain": [
              "tensor([0., 0., nan])"
            ]
          },
          "metadata": {},
          "execution_count": 50
        }
      ]
    },
    {
      "cell_type": "code",
      "source": [
        "#Trac nghiem 4/b\n",
        "\n",
        "import torch\n",
        "import torch.nn as nn\n",
        "\n",
        "class SoftmaxStable(nn.Module):\n",
        "    def __init__(self):\n",
        "        super().__init__()\n",
        "\n",
        "    def forward ( self , x ) :\n",
        "      x_max = torch .max(x , dim =0 , keepdims = True )\n",
        "      x_exp = torch . exp ( x - x_max . values )\n",
        "      partition = x_exp .sum (0 , keepdims = True )\n",
        "      return x_exp / partition\n",
        "\n",
        "data = torch . Tensor ([1 , 2 , 3])\n",
        "softmax_stable = SoftmaxStable ()\n",
        "output = softmax_stable ( data )\n",
        "assert round ( output [ -1]. item () , 2) == 0.67\n",
        "output"
      ],
      "metadata": {
        "colab": {
          "base_uri": "https://localhost:8080/"
        },
        "id": "aL2tFesf_9K0",
        "outputId": "e0997940-83d4-4494-e344-c945eb0317e3"
      },
      "execution_count": null,
      "outputs": [
        {
          "output_type": "execute_result",
          "data": {
            "text/plain": [
              "tensor([0.0900, 0.2447, 0.6652])"
            ]
          },
          "metadata": {},
          "execution_count": 53
        }
      ]
    },
    {
      "cell_type": "code",
      "source": [
        "#Trac nghiem 5/a\n",
        "from abc import ABC , abstractmethod\n",
        "class Person ( ABC ) :\n",
        "  def __init__ ( self , name :str , yob :int ) :\n",
        "    self . _name = name\n",
        "    self . _yob = yob\n",
        "\n",
        "  def get_yob ( self ) :\n",
        "    return self . _yob\n",
        "\n",
        "  @abstractmethod\n",
        "  def describe ( self ) :\n",
        "    pass\n",
        "\n",
        "class Student ( Person ) :\n",
        "  def __init__ ( self , name :str , yob :int , grade :str) :\n",
        "    super().__init__(name, yob)\n",
        "    self.grade = grade\n",
        "\n",
        "  def describe ( self ) :\n",
        "    print ( f'Student - Name: {self._name} - YoB: {self._yob} - Grade: {self.grade}')\n",
        "\n",
        "student1 = Student ( name =\" studentZ2023 \", yob =2011 , grade =\"6\")\n",
        "assert student1 . _yob == 2011\n",
        "student1 . describe ()"
      ],
      "metadata": {
        "colab": {
          "base_uri": "https://localhost:8080/"
        },
        "id": "vHDYNQ62w8ZK",
        "outputId": "985a5673-cc61-4b58-b75c-853876cbd12a"
      },
      "execution_count": 6,
      "outputs": [
        {
          "output_type": "stream",
          "name": "stdout",
          "text": [
            "Student - Name:  studentZ2023  - YoB: 2011 - Grade: 6\n"
          ]
        }
      ]
    },
    {
      "cell_type": "code",
      "source": [
        "#Trac nghiem 6/b\n",
        "from abc import ABC , abstractmethod\n",
        "class Person ( ABC ) :\n",
        "  def __init__ ( self , name :str , yob :int ) :\n",
        "    self . _name = name\n",
        "    self . _yob = yob\n",
        "\n",
        "  def get_yob ( self ) :\n",
        "    return self . _yob\n",
        "\n",
        "  @abstractmethod\n",
        "  def describe ( self ) :\n",
        "    pass\n",
        "\n",
        "class Teacher ( Person ) :\n",
        "  def __init__ ( self , name :str , yob :int , subject : str) :\n",
        "    super().__init__(name, yob)\n",
        "    self.subject = subject\n",
        "\n",
        "  def describe ( self ) :\n",
        "    print ( f'Teacher - Name: {self._name} - YoB: {self._yob} - Subject: {self.subject}')\n",
        "\n",
        "teacher1 = Teacher ( name =\" teacherZ2023 \", yob =1991 , subject =\" History \")\n",
        "assert teacher1 . _yob == 1991\n",
        "teacher1 . describe ()\n",
        "\n"
      ],
      "metadata": {
        "colab": {
          "base_uri": "https://localhost:8080/"
        },
        "id": "QnIT5Y76BeDa",
        "outputId": "f3a57e3a-b04c-46d4-9fcb-370683ef5b30"
      },
      "execution_count": 5,
      "outputs": [
        {
          "output_type": "stream",
          "name": "stdout",
          "text": [
            "Teacher - Name:  teacherZ2023  - YoB: 1991 - Subject:  History \n"
          ]
        }
      ]
    },
    {
      "cell_type": "code",
      "source": [
        "#Trac nghiem 7/a\n",
        "from abc import ABC , abstractmethod\n",
        "\n",
        "class Person ( ABC ) :\n",
        "  def __init__ ( self , name :str , yob :int ) :\n",
        "    self . _name = name\n",
        "    self . _yob = yob\n",
        "\n",
        "  def get_yob ( self ) :\n",
        "    return self . _yob\n",
        "\n",
        "  @abstractmethod\n",
        "  def describe ( self ) :\n",
        "    pass\n",
        "\n",
        "class Doctor ( Person ) :\n",
        "  def __init__ ( self , name :str , yob :int , specialist :str) :\n",
        "    super().__init__(name, yob)\n",
        "    self.specialist = specialist\n",
        "\n",
        "  def describe ( self ) :\n",
        "    print ( f'Doctor - Name: {self._name} - YoB: {self._yob} - Specialist: {self.specialist}')\n",
        "\n",
        "doctor1 = Doctor ( name =\" doctorZ2023 \", yob =1981 , specialist =\" Endocrinologists \")\n",
        "assert doctor1 . _yob == 1981\n",
        "doctor1 . describe ()\n",
        "\n"
      ],
      "metadata": {
        "colab": {
          "base_uri": "https://localhost:8080/"
        },
        "id": "S2oRpD2QCjgX",
        "outputId": "20c0875f-917a-4915-e929-52109646a827"
      },
      "execution_count": 3,
      "outputs": [
        {
          "output_type": "stream",
          "name": "stdout",
          "text": [
            "Doctor - Name:  doctorZ2023  - YoB: 1981 - Specialist:  Endocrinologists \n"
          ]
        }
      ]
    },
    {
      "cell_type": "code",
      "source": [
        "#Trac nghiem 8/c\n",
        "class Ward :\n",
        "  def __init__ ( self , name : str) :\n",
        "    self . __name = name\n",
        "    self . __listPeople = list ()\n",
        "\n",
        "  def add_person ( self , person : Person ) :\n",
        "    self . __listPeople . append ( person )\n",
        "\n",
        "  def describe ( self ) :\n",
        "    print ( f\" Ward Name : { self . __name }\")\n",
        "    for p in self . __listPeople :\n",
        "      p . describe ()\n",
        "\n",
        "  def count_doctor ( self ) :\n",
        "    count = sum(isinstance(person, Doctor) for person in self.__listPeople)\n",
        "    return count\n",
        "\n",
        "\n",
        "doctor2 = Doctor ( name =\" doctorB \", yob =1975 , specialist =\" Cardiologists \")\n",
        "ward1 = Ward ( name =\" Ward1 \")\n",
        "ward1 . add_person ( student1 )\n",
        "ward1 . add_person ( teacher1 )\n",
        "ward1 . add_person ( teacher2 )\n",
        "ward1 . add_person ( doctor1 )\n",
        "ward1 . add_person ( doctor2 )\n",
        "ward1 . count_doctor ()"
      ],
      "metadata": {
        "colab": {
          "base_uri": "https://localhost:8080/"
        },
        "id": "15k7CtIiDF8M",
        "outputId": "ec6f42ac-dff3-4b7c-9232-d658256897fa"
      },
      "execution_count": 15,
      "outputs": [
        {
          "output_type": "execute_result",
          "data": {
            "text/plain": [
              "2"
            ]
          },
          "metadata": {},
          "execution_count": 15
        }
      ]
    },
    {
      "cell_type": "code",
      "source": [
        "#Trac nghiem 9/a\n",
        "class MyStack :\n",
        "  def __init__ ( self , capacity ) :\n",
        "    self . __capacity = capacity\n",
        "    self . __stack = []\n",
        "\n",
        "  def is_full ( self ) :\n",
        "    return len( self . __stack ) == self . __capacity\n",
        "\n",
        "  def push ( self , value ) :\n",
        "    self.__stack.append (value)\n",
        "\n",
        "stack1 = MyStack ( capacity =5)\n",
        "stack1 . push (1)\n",
        "assert stack1 . is_full () == False\n",
        "stack1 . push (2)\n",
        "print ( stack1 . is_full () )\n",
        "\n"
      ],
      "metadata": {
        "colab": {
          "base_uri": "https://localhost:8080/"
        },
        "id": "oyZh3SgcFkHT",
        "outputId": "29314efc-acc9-423c-ff1a-fe0124fdf0cc"
      },
      "execution_count": 16,
      "outputs": [
        {
          "output_type": "stream",
          "name": "stdout",
          "text": [
            "False\n"
          ]
        }
      ]
    },
    {
      "cell_type": "code",
      "source": [
        "#Trac nghiem 10/b\n",
        "class MyStack :\n",
        "  def __init__ ( self , capacity ) :\n",
        "    self . __capacity = capacity\n",
        "    self . __stack = []\n",
        "\n",
        "  def is_full ( self ) :\n",
        "    return len( self . __stack ) == self . __capacity\n",
        "\n",
        "  def push ( self , value ) :\n",
        "    self.__stack.append (value)\n",
        "\n",
        "  def top ( self ) :\n",
        "    return self.__stack[-1]\n",
        "\n",
        "  def describe(self):\n",
        "    print(self.__stack)\n",
        "\n",
        "stack1 = MyStack ( capacity =5)\n",
        "stack1 . push (1)\n",
        "assert stack1 . is_full () == False\n",
        "stack1 . push (2)\n",
        "print ( stack1 . top () )"
      ],
      "metadata": {
        "colab": {
          "base_uri": "https://localhost:8080/"
        },
        "id": "eKvw8pBfGR7p",
        "outputId": "8dff8744-c481-4a91-b4ba-4d092c0d6b64"
      },
      "execution_count": 22,
      "outputs": [
        {
          "output_type": "stream",
          "name": "stdout",
          "text": [
            "2\n"
          ]
        }
      ]
    },
    {
      "cell_type": "code",
      "source": [
        "#Trac nghiem 11/a\n",
        "class MyQueue :\n",
        "  def __init__ ( self , capacity ) :\n",
        "    self . __capacity = capacity\n",
        "    self . __queue = []\n",
        "\n",
        "  def is_full ( self ) :\n",
        "    return len( self . __queue ) == self . __capacity\n",
        "\n",
        "  def enqueue ( self , value ) :\n",
        "    self.__queue.append (value)\n",
        "\n",
        "queue1 = MyQueue ( capacity =5)\n",
        "queue1 . enqueue (1)\n",
        "assert queue1 . is_full () == False\n",
        "queue1 . enqueue (2)\n",
        "print ( queue1 . is_full () )\n",
        "\n",
        "\n",
        ""
      ],
      "metadata": {
        "colab": {
          "base_uri": "https://localhost:8080/"
        },
        "id": "_UeT2UjMI4Pg",
        "outputId": "f48141e9-2f12-4063-d134-475ed7811188"
      },
      "execution_count": 23,
      "outputs": [
        {
          "output_type": "stream",
          "name": "stdout",
          "text": [
            "False\n"
          ]
        }
      ]
    },
    {
      "cell_type": "code",
      "source": [
        "#Trac nghiem 11/d\n",
        "class MyQueue :\n",
        "  def __init__ ( self , capacity ) :\n",
        "    self . __capacity = capacity\n",
        "    self . __queue = []\n",
        "\n",
        "  def isEmpty ( self ) :\n",
        "    return len( self . __queue ) == 0\n",
        "\n",
        "  def is_full ( self ) :\n",
        "    return len( self . __queue ) == self . __capacity\n",
        "\n",
        "  def dequeue ( self ) :\n",
        "    return self.__queue.pop(0)\n",
        "\n",
        "  def enqueue ( self , value ) :\n",
        "    self.__queue.append (value)\n",
        "\n",
        "  def front ( self ) :\n",
        "    return self.__queue[0]\n",
        "\n",
        "\n",
        "queue1 = MyQueue ( capacity =5)\n",
        "queue1 . enqueue (1)\n",
        "assert queue1 . is_full () == False\n",
        "queue1 . enqueue (2)\n",
        "print ( queue1 . front () )\n"
      ],
      "metadata": {
        "colab": {
          "base_uri": "https://localhost:8080/"
        },
        "id": "kAVZFv2NORlQ",
        "outputId": "fb066d86-bd77-4950-ea65-c67191aeb939"
      },
      "execution_count": 24,
      "outputs": [
        {
          "output_type": "stream",
          "name": "stdout",
          "text": [
            "1\n"
          ]
        }
      ]
    }
  ]
}