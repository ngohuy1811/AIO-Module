{
  "nbformat": 4,
  "nbformat_minor": 0,
  "metadata": {
    "colab": {
      "provenance": [],
      "gpuType": "T4",
      "authorship_tag": "ABX9TyOjTwO8ETdq+jcyVw4coLm2",
      "include_colab_link": true
    },
    "kernelspec": {
      "name": "python3",
      "display_name": "Python 3"
    },
    "language_info": {
      "name": "python"
    }
  },
  "cells": [
    {
      "cell_type": "markdown",
      "metadata": {
        "id": "view-in-github",
        "colab_type": "text"
      },
      "source": [
        "<a href=\"https://colab.research.google.com/github/ngohuy1811/AIO-Module_1/blob/main/numpy_programming.ipynb\" target=\"_parent\"><img src=\"https://colab.research.google.com/assets/colab-badge.svg\" alt=\"Open In Colab\"/></a>"
      ]
    },
    {
      "cell_type": "code",
      "source": [
        "#Cau 1: a\n",
        "import numpy as np\n",
        "\n",
        "arr1 = np . arange (0 , 10 , 1)\n",
        "print (arr1)"
      ],
      "metadata": {
        "colab": {
          "base_uri": "https://localhost:8080/"
        },
        "id": "viNNZOHZxihI",
        "outputId": "e09a4425-df25-4ad0-dd66-ccb8a6f32467"
      },
      "execution_count": null,
      "outputs": [
        {
          "output_type": "stream",
          "name": "stdout",
          "text": [
            "[0 1 2 3 4 5 6 7 8 9]\n"
          ]
        }
      ]
    },
    {
      "cell_type": "code",
      "source": [
        "#Cau 2: b\n",
        "arr2 = np . full ((3 ,3) , fill_value = True , dtype = bool )\n",
        "print (arr2)"
      ],
      "metadata": {
        "colab": {
          "base_uri": "https://localhost:8080/"
        },
        "id": "HfdanTwE2hxv",
        "outputId": "ee65761c-3b3c-4db5-92d4-d239b972a557"
      },
      "execution_count": null,
      "outputs": [
        {
          "output_type": "stream",
          "name": "stdout",
          "text": [
            "[[ True  True  True]\n",
            " [ True  True  True]\n",
            " [ True  True  True]]\n"
          ]
        }
      ]
    },
    {
      "cell_type": "code",
      "source": [
        "#Cau 3: a\n",
        "arr = np . arange (0 ,10)\n",
        "print ( arr [ arr %2 == 1])"
      ],
      "metadata": {
        "colab": {
          "base_uri": "https://localhost:8080/"
        },
        "id": "cLc0hLuG3Itw",
        "outputId": "481e64e5-17a6-4d4e-8acb-fc013bcf119e"
      },
      "execution_count": null,
      "outputs": [
        {
          "output_type": "stream",
          "name": "stdout",
          "text": [
            "[1 3 5 7 9]\n"
          ]
        }
      ]
    },
    {
      "cell_type": "code",
      "source": [
        "#Cau 4: b\n",
        "arr = np . arange (0 ,10)\n",
        "arr [ arr %2 ==1] = -1\n",
        "print ( arr )"
      ],
      "metadata": {
        "colab": {
          "base_uri": "https://localhost:8080/"
        },
        "id": "CRskhJmH99d9",
        "outputId": "cec83ec1-1cab-4fe1-b934-603e81139e08"
      },
      "execution_count": null,
      "outputs": [
        {
          "output_type": "stream",
          "name": "stdout",
          "text": [
            "[ 0 -1  2 -1  4 -1  6 -1  8 -1]\n"
          ]
        }
      ]
    },
    {
      "cell_type": "code",
      "source": [
        "#Cau 5: b\n",
        "arr = np . arange (10)\n",
        "arr_2d = arr . reshape (2 , -1)\n",
        "print ( arr_2d )"
      ],
      "metadata": {
        "colab": {
          "base_uri": "https://localhost:8080/"
        },
        "id": "tU0RxGl1-Erp",
        "outputId": "a8234490-8b88-4155-fc8f-75856df0ff77"
      },
      "execution_count": null,
      "outputs": [
        {
          "output_type": "stream",
          "name": "stdout",
          "text": [
            "[[0 1 2 3 4]\n",
            " [5 6 7 8 9]]\n"
          ]
        }
      ]
    },
    {
      "cell_type": "code",
      "source": [
        "#Cau 6: a\n",
        "arr1 = np.arange (10) . reshape (2 , -1)\n",
        "arr2 = np.repeat (1 ,10) . reshape (2 , -1)\n",
        "c = np . concatenate ([ arr1 , arr2 ] , axis =0)\n",
        "print (\" Result : \\n\", c )"
      ],
      "metadata": {
        "colab": {
          "base_uri": "https://localhost:8080/"
        },
        "id": "ajLpp0w6-eza",
        "outputId": "b052b05e-c0af-48fe-dbdb-b0256be5f18c"
      },
      "execution_count": null,
      "outputs": [
        {
          "output_type": "stream",
          "name": "stdout",
          "text": [
            " Result : \n",
            " [[0 1 2 3 4]\n",
            " [5 6 7 8 9]\n",
            " [1 1 1 1 1]\n",
            " [1 1 1 1 1]]\n"
          ]
        }
      ]
    },
    {
      "cell_type": "code",
      "source": [
        "#Cau 7: c\n",
        "arr1 = np.arange (10) . reshape (2 , -1)\n",
        "arr2 = np.repeat (1 ,10) . reshape (2 , -1)\n",
        "c = np . concatenate ([ arr1 , arr2 ] , axis =1)\n",
        "print (\" Result : \\n\", c )\n"
      ],
      "metadata": {
        "colab": {
          "base_uri": "https://localhost:8080/"
        },
        "id": "vIJCOEGY_V3G",
        "outputId": "8a7c9169-b2c9-45e1-b9c8-719bdeca5a9a"
      },
      "execution_count": null,
      "outputs": [
        {
          "output_type": "stream",
          "name": "stdout",
          "text": [
            " Result : \n",
            " [[0 1 2 3 4 1 1 1 1 1]\n",
            " [5 6 7 8 9 1 1 1 1 1]]\n"
          ]
        }
      ]
    },
    {
      "cell_type": "code",
      "source": [
        "#Cau 8:a\n",
        "arr = np . array ([1 ,2 ,3])\n",
        "print ( np . repeat ( arr ,3) )\n",
        "print ( np . tile ( arr ,3) )\n",
        "\n"
      ],
      "metadata": {
        "id": "4dsWNqk3GoE2",
        "colab": {
          "base_uri": "https://localhost:8080/"
        },
        "outputId": "6dab8f4c-e756-4d07-d000-8e82867e55c6"
      },
      "execution_count": null,
      "outputs": [
        {
          "output_type": "stream",
          "name": "stdout",
          "text": [
            "[1 1 1 2 2 2 3 3 3]\n",
            "[1 2 3 1 2 3 1 2 3]\n"
          ]
        }
      ]
    },
    {
      "cell_type": "code",
      "source": [
        "#Cau 9:c\n",
        "a = np . array ([2 ,6 ,1 ,9 ,10 ,3 ,27])\n",
        "index = np . where ((a >=5) &( a <=10) )\n",
        "print (\" result \", a [ index ])"
      ],
      "metadata": {
        "colab": {
          "base_uri": "https://localhost:8080/"
        },
        "id": "qst4PARRw8Kz",
        "outputId": "d554f943-16bf-4492-b59a-24bbdfc576d9"
      },
      "execution_count": null,
      "outputs": [
        {
          "output_type": "stream",
          "name": "stdout",
          "text": [
            " result  [ 6  9 10]\n"
          ]
        }
      ]
    },
    {
      "cell_type": "code",
      "source": [
        "#Cau 10: d\n",
        "def maxx(x, y):\n",
        "  if x >= y:\n",
        "    return x\n",
        "  else:\n",
        "    return y\n",
        "\n",
        "x = np.array([5, 7, 9, 8, 6, 4, 5])\n",
        "y = np.array([6, 3, 4, 8, 9, 7, 1])\n",
        "pair_max = np.vectorize(maxx, otypes=[float])\n",
        "print(pair_max(x,y))"
      ],
      "metadata": {
        "colab": {
          "base_uri": "https://localhost:8080/"
        },
        "id": "_-ZOiNgx2IOr",
        "outputId": "d1c97fd5-2fac-4181-d88e-9902e25fac53"
      },
      "execution_count": null,
      "outputs": [
        {
          "output_type": "stream",
          "name": "stdout",
          "text": [
            "[6. 7. 9. 8. 9. 7. 5.]\n"
          ]
        }
      ]
    },
    {
      "cell_type": "code",
      "source": [
        "#Cau 11: a\n",
        "a = np . array ([5 ,7 ,9 ,8 ,6 ,4 ,5])\n",
        "b = np . array ([6 ,3 ,4 ,8 ,9 ,7 ,1])\n",
        "\n",
        "print (\"Result\", np . where (a <b , b , a ) )"
      ],
      "metadata": {
        "colab": {
          "base_uri": "https://localhost:8080/"
        },
        "id": "rBtiVmG93wNQ",
        "outputId": "d6725c51-f805-4f11-f319-fa00d682c2d6"
      },
      "execution_count": null,
      "outputs": [
        {
          "output_type": "stream",
          "name": "stdout",
          "text": [
            "Result [6 7 9 8 9 7 5]\n"
          ]
        }
      ]
    },
    {
      "cell_type": "code",
      "source": [
        "#Cau 12: a\n",
        "# Download image\n",
        "\n",
        "! gdown 1i9dqan21DjQoG5Q_VEvm0LrVwAlXD0vB\n",
        "import matplotlib.image as mpimg\n",
        "\n",
        "img = mpimg.imread('/content/dog.jpeg')\n",
        "def lightness_method(rgb_image):\n",
        "  grayscale_image = (np.max(rgb_image, axis=2) + np.min(rgb_image, axis=2)) / 2\n",
        "  return grayscale_image\n",
        "\n",
        "gray_img_01 = lightness_method(img)\n",
        "gray_img_01 [0,0]\n",
        "\n",
        "\n",
        "\n"
      ],
      "metadata": {
        "colab": {
          "base_uri": "https://localhost:8080/"
        },
        "id": "DPUsCxIHV-hO",
        "outputId": "991909f0-c29c-4299-d530-e20db53a447e"
      },
      "execution_count": null,
      "outputs": [
        {
          "output_type": "stream",
          "name": "stdout",
          "text": [
            "Downloading...\n",
            "From: https://drive.google.com/uc?id=1i9dqan21DjQoG5Q_VEvm0LrVwAlXD0vB\n",
            "To: /content/dog.jpeg\n",
            "\r  0% 0.00/33.7k [00:00<?, ?B/s]\r100% 33.7k/33.7k [00:00<00:00, 42.3MB/s]\n"
          ]
        },
        {
          "output_type": "execute_result",
          "data": {
            "text/plain": [
              "102.5"
            ]
          },
          "metadata": {},
          "execution_count": 3
        }
      ]
    },
    {
      "cell_type": "code",
      "source": [
        "#Cau 13: a\n",
        "# Download image\n",
        "! gdown 1i9dqan21DjQoG5Q_VEvm0LrVwAlXD0vB\n",
        "import matplotlib.image as mpimg\n",
        "img = mpimg.imread('/content/dog.jpeg')\n",
        "\n",
        "import numpy as np\n",
        "def average_method(rgb_image):\n",
        "  grayscale_image = np.mean(rgb_image, axis=2)\n",
        "  return grayscale_image\n",
        "\n",
        "gray_img_02 = average_method(img)\n",
        "gray_img_02 [0 , 0]\n"
      ],
      "metadata": {
        "colab": {
          "base_uri": "https://localhost:8080/"
        },
        "id": "bYaAl_emYe3b",
        "outputId": "508f4a90-8b7b-465e-8fd6-0bd073e3ca11"
      },
      "execution_count": null,
      "outputs": [
        {
          "output_type": "stream",
          "name": "stdout",
          "text": [
            "Downloading...\n",
            "From: https://drive.google.com/uc?id=1i9dqan21DjQoG5Q_VEvm0LrVwAlXD0vB\n",
            "To: /content/dog.jpeg\n",
            "\r  0% 0.00/33.7k [00:00<?, ?B/s]\r100% 33.7k/33.7k [00:00<00:00, 63.8MB/s]\n"
          ]
        },
        {
          "output_type": "execute_result",
          "data": {
            "text/plain": [
              "107.66666666666667"
            ]
          },
          "metadata": {},
          "execution_count": 4
        }
      ]
    },
    {
      "cell_type": "code",
      "source": [
        "#Cau 14: c\n",
        "import matplotlib.image as mpimg\n",
        "\n",
        "img = mpimg.imread('/content/dog.jpeg')\n",
        "import numpy as np\n",
        "\n",
        "def luminosity_method(rgb_image):\n",
        "    grayscale_image = 0.21 * rgb_image[:,:,0] + 0.72 * rgb_image[:,:,1] + 0.07 * rgb_image[:,:,2]\n",
        "    return grayscale_image\n",
        "\n",
        "gray_img_03 = luminosity_method(img)\n",
        "gray_img_03[0 , 0]"
      ],
      "metadata": {
        "colab": {
          "base_uri": "https://localhost:8080/"
        },
        "id": "uJpkNVocZZ4x",
        "outputId": "22ff86d9-5364-4bc2-d040-0a7452478006"
      },
      "execution_count": null,
      "outputs": [
        {
          "output_type": "execute_result",
          "data": {
            "text/plain": [
              "126.22999999999999"
            ]
          },
          "metadata": {},
          "execution_count": 5
        }
      ]
    },
    {
      "cell_type": "code",
      "source": [
        "! gdown 1iA0WmVfW88HyJvTBSQDI5vesf-pgKabq\n",
        "\n",
        "import pandas as pd\n",
        "df = pd.read_csv ('/content/advertising.csv')\n",
        "\n",
        "data = df.to_numpy()"
      ],
      "metadata": {
        "colab": {
          "base_uri": "https://localhost:8080/"
        },
        "id": "vkX5KOoBb7vw",
        "outputId": "06fcf553-7fe0-4d9c-ccb7-567dc54beb02"
      },
      "execution_count": null,
      "outputs": [
        {
          "output_type": "stream",
          "name": "stdout",
          "text": [
            "Downloading...\n",
            "From: https://drive.google.com/uc?id=1iA0WmVfW88HyJvTBSQDI5vesf-pgKabq\n",
            "To: /content/advertising.csv\n",
            "\r  0% 0.00/4.06k [00:00<?, ?B/s]\r100% 4.06k/4.06k [00:00<00:00, 17.7MB/s]\n"
          ]
        }
      ]
    },
    {
      "cell_type": "code",
      "source": [
        "#Cau 15: c\n",
        "max_index = df['Sales'].idxmax()\n",
        "max_value = df['Sales'].max()\n",
        "print(max_value, max_index)"
      ],
      "metadata": {
        "colab": {
          "base_uri": "https://localhost:8080/"
        },
        "id": "fhpNytbjchq8",
        "outputId": "a2c70929-03e9-4368-fd2e-975c4658670a"
      },
      "execution_count": null,
      "outputs": [
        {
          "output_type": "stream",
          "name": "stdout",
          "text": [
            "27.0 175\n"
          ]
        }
      ]
    },
    {
      "cell_type": "code",
      "source": [
        "#Cau 16: b\n",
        "mean_tv = df['TV'].mean()\n",
        "print(mean_tv)"
      ],
      "metadata": {
        "colab": {
          "base_uri": "https://localhost:8080/"
        },
        "id": "KPeROOSOdntf",
        "outputId": "a5dec704-f345-4f89-86d6-a4436c87f8ee"
      },
      "execution_count": null,
      "outputs": [
        {
          "output_type": "stream",
          "name": "stdout",
          "text": [
            "147.0425\n"
          ]
        }
      ]
    },
    {
      "cell_type": "code",
      "source": [
        "#Cau 17: a\n",
        "count_sales_ge_20 = df[df['Sales'] >= 20].shape[0]\n",
        "print(count_sales_ge_20)"
      ],
      "metadata": {
        "colab": {
          "base_uri": "https://localhost:8080/"
        },
        "id": "sNeZaiD6d0Sn",
        "outputId": "5bbc2981-fa03-457d-ff8f-94c2685bcbe4"
      },
      "execution_count": null,
      "outputs": [
        {
          "output_type": "stream",
          "name": "stdout",
          "text": [
            "40\n"
          ]
        }
      ]
    },
    {
      "cell_type": "code",
      "source": [
        "#Cau 18: b\n",
        "filtered_df = df[df['Sales'] >= 15]\n",
        "mean_radio = filtered_df['Radio'].mean()\n",
        "print(mean_radio)"
      ],
      "metadata": {
        "colab": {
          "base_uri": "https://localhost:8080/"
        },
        "id": "I15a2V2OeCqZ",
        "outputId": "3b6daa8a-edf1-462e-9264-2c1aa7530466"
      },
      "execution_count": null,
      "outputs": [
        {
          "output_type": "stream",
          "name": "stdout",
          "text": [
            "26.22293577981651\n"
          ]
        }
      ]
    },
    {
      "cell_type": "code",
      "source": [
        "#Cau 19: c\n",
        "mean_newspaper = df['Newspaper'].mean()\n",
        "filtered_df = df[df['Newspaper'] > mean_newspaper]\n",
        "sum_sales = filtered_df['Sales'].sum()\n",
        "print(sum_sales)"
      ],
      "metadata": {
        "colab": {
          "base_uri": "https://localhost:8080/"
        },
        "id": "vjqFX0sJeZYU",
        "outputId": "1a9837fa-9aa5-4d25-c419-608e0ba17292"
      },
      "execution_count": null,
      "outputs": [
        {
          "output_type": "stream",
          "name": "stdout",
          "text": [
            "1405.1\n"
          ]
        }
      ]
    },
    {
      "cell_type": "code",
      "source": [
        "#Cau 20: c\n",
        "A = df['Sales'].mean()\n",
        "scores = df['Sales'].apply(lambda x: 'Good' if x > A else 'Bad' if x < A else 'Average').to_list()\n",
        "print(scores[7:10])"
      ],
      "metadata": {
        "colab": {
          "base_uri": "https://localhost:8080/"
        },
        "id": "tTx5q2_1enqZ",
        "outputId": "99e9e25f-fc78-48b5-f8d1-aebf0e220a5e"
      },
      "execution_count": null,
      "outputs": [
        {
          "output_type": "stream",
          "name": "stdout",
          "text": [
            "['Bad', 'Bad', 'Good']\n"
          ]
        }
      ]
    },
    {
      "cell_type": "code",
      "source": [
        "#Cau 21: c\n",
        "mean_sales = df['Sales'].mean()\n",
        "A = df['Sales'].iloc[(df['Sales'] - mean_sales).abs().argsort()[:1]].values[0]\n",
        "scores = df['Sales'].apply(lambda x: 'Good' if x > A else 'Bad' if x < A else 'Average').to_list()\n",
        "print(scores[7:10])"
      ],
      "metadata": {
        "colab": {
          "base_uri": "https://localhost:8080/"
        },
        "id": "9FudJv4UfEWW",
        "outputId": "baf556b2-d2cb-4cf3-a765-c492d65303da"
      },
      "execution_count": null,
      "outputs": [
        {
          "output_type": "stream",
          "name": "stdout",
          "text": [
            "['Bad', 'Bad', 'Good']\n"
          ]
        }
      ]
    }
  ]
}