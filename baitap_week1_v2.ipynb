{
  "nbformat": 4,
  "nbformat_minor": 0,
  "metadata": {
    "colab": {
      "provenance": []
    },
    "kernelspec": {
      "name": "python3",
      "display_name": "Python 3"
    },
    "language_info": {
      "name": "python"
    }
  },
  "cells": [
    {
      "cell_type": "code",
      "source": [
        "#Tu luan 1\n",
        "def calc_f1( tp , fp , fn ) :\n",
        "\n",
        "  if type(tp) != int:\n",
        "      print (f'tp must be int')\n",
        "  elif type(fp) != int:\n",
        "      print (f'fp must be int')\n",
        "  elif type(fn) != int:\n",
        "      print (f'fn must be int')\n",
        "  elif tp <= 0 or fp <= 0 or fn <= 0:\n",
        "      print (f'tp, fp, fn must be greater than 0')\n",
        "  else:\n",
        "      precision = tp/(tp+fp)\n",
        "      recall = tp/(tp+fn)\n",
        "      f1_score = 2*(precision*recall)/(precision+recall)\n",
        "      print (f'precision is {precision}')\n",
        "      print (f'recall is {recall}')\n",
        "      print (f'f1_score is {f1_score}')\n",
        "\n",
        "calc_f1( 2 , 4 , 0 )"
      ],
      "metadata": {
        "colab": {
          "base_uri": "https://localhost:8080/"
        },
        "id": "pzZk8AU7hb2x",
        "outputId": "728e222c-daad-4606-dc5e-6ed0b746f33a"
      },
      "execution_count": 1,
      "outputs": [
        {
          "output_type": "stream",
          "name": "stdout",
          "text": [
            "tp, fp, fn must be greater than 0\n"
          ]
        }
      ]
    },
    {
      "cell_type": "code",
      "source": [
        "#Tu luan 2\n",
        "import math\n",
        "\n",
        "\n",
        "def is_number(x) :\n",
        "  try:\n",
        "    return float(x)\n",
        "  except ValueError:\n",
        "    print ('x must be a number')\n",
        "    return None\n",
        "\n",
        "def sigmoid(x):\n",
        "    return 1 / (1 + math.exp(-x))\n",
        "\n",
        "def relu(x):\n",
        "    if x > 0:\n",
        "        return x\n",
        "    else:\n",
        "        return 0\n",
        "def elu(x):\n",
        "    a = 0.01\n",
        "    if x > 0:\n",
        "        return x\n",
        "    else:\n",
        "        return a*(math.exp(x) - 1)\n",
        "\n",
        "x = is_number(input(\"Please enter an integer value for x: \"))\n",
        "if x is None:\n",
        "    exit()\n",
        "else:\n",
        "  choose_function = input(\"Input activation Function ( sigmoid | relu | elu ): \")\n",
        "  if choose_function == 'sigmoid':\n",
        "      print (f'sigmoid({x}) = {sigmoid(x)}')\n",
        "  elif choose_function == 'relu':\n",
        "      print (f'relu({x}) = {relu(x)}')\n",
        "  elif choose_function == 'elu':\n",
        "      print (f'elu({x}) = {elu(x)}')\n",
        "  else:\n",
        "      print (f'{choose_function} is not supported')\n",
        "\n",
        "\n",
        "\n"
      ],
      "metadata": {
        "colab": {
          "base_uri": "https://localhost:8080/"
        },
        "id": "4hEc_pGQiAHI",
        "outputId": "1df0fa40-c6a2-496a-c0f4-f06064d9f896"
      },
      "execution_count": 2,
      "outputs": [
        {
          "output_type": "stream",
          "name": "stdout",
          "text": [
            "Please enter an integer value for x: 2\n",
            "Input activation Function ( sigmoid | relu | elu ): elu\n",
            "elu(2.0) = 2.0\n"
          ]
        }
      ]
    },
    {
      "cell_type": "code",
      "source": [
        "#Tu luan 3\n",
        "import random\n",
        "import math\n",
        "\n",
        "def mae_calc(n):\n",
        "  sum_loss = 0\n",
        "  for i in range (n):\n",
        "    y = random.uniform(0, 10)\n",
        "    y_hat = random.uniform(0, 10)\n",
        "    loss = abs(y - y_hat)\n",
        "    sum_loss += abs(y - y_hat)\n",
        "    print (f'loss name: MAE, sample {range(n).index(i)}, target {y}, pred {y_hat}, loss {loss} ')\n",
        "  print (f'final loss value {sum_loss/n}')\n",
        "  return sum_loss / n\n",
        "\n",
        "def mse_calc(n):\n",
        "  sum_loss = 0\n",
        "  for i in range (n):\n",
        "    y = random.uniform(0, 10)\n",
        "    y_hat = random.uniform(0, 10)\n",
        "    loss = (y - y_hat)**2\n",
        "    sum_loss += (y - y_hat)**2\n",
        "    print (f'loss name: MSE, sample {range(n).index(i)}, target {y}, pred {y_hat}, loss {loss} ')\n",
        "  print (f'final loss value {sum_loss/n}')\n",
        "  return sum_loss / n\n",
        "\n",
        "def rmse_calc(n):\n",
        "  sum_loss = 0\n",
        "  for i in range (n):\n",
        "    y = random.uniform(0, 10)\n",
        "    y_hat = random.uniform(0, 10)\n",
        "    loss = (y - y_hat)**2\n",
        "    sum_loss += (y - y_hat)**2\n",
        "    print (f'loss name: RMSE, sample {range(n).index(i)}, target {y}, pred {y_hat}, loss {loss} ')\n",
        "  print (f'final loss value {math.sqrt(sum_loss / n)}')\n",
        "  return math.sqrt(sum_loss / n)\n",
        "\n",
        "txt = input(\"Please enter an integer value for n: \")\n",
        "if txt.isnumeric() is True:\n",
        "  n = int(txt)\n",
        "  loss_name = input(\"Please enter a loss function name ( mae | mse | rmse ): \")\n",
        "  if loss_name == 'mae':\n",
        "    mae_calc(n)\n",
        "  elif loss_name == 'mse':\n",
        "    mse_calc(n)\n",
        "  elif loss_name == 'rmse':\n",
        "    rmse_calc(n)\n",
        "  else:\n",
        "    print (f'{loss_name} is not supported')\n",
        "\n",
        "else:\n",
        "  print ('Number of samples must be an integer number')\n"
      ],
      "metadata": {
        "id": "694gXCST_7RP",
        "colab": {
          "base_uri": "https://localhost:8080/"
        },
        "outputId": "51203e56-1b66-4186-8eef-23cc20a6008d"
      },
      "execution_count": 8,
      "outputs": [
        {
          "output_type": "stream",
          "name": "stdout",
          "text": [
            "Please enter an integer value for n: 3\n",
            "Please enter a loss function name ( mae | mse | rmse ): mse\n",
            "loss name: MSE, sample 0, target 4.101077449094975, pred 6.787497869239854, loss 7.216854673771392 \n",
            "loss name: MSE, sample 1, target 4.2416221359345805, pred 9.697740953814266, loss 29.76923255482082 \n",
            "loss name: MSE, sample 2, target 1.5685056791437224, pred 5.7793752627574015, loss 17.731422650202838 \n",
            "final loss value 18.23916995959835\n"
          ]
        }
      ]
    },
    {
      "cell_type": "code",
      "source": [
        "import random\n",
        "import math\n",
        "\n",
        "def mae_calc(n):\n",
        "  sum_loss = 0\n",
        "  for i in range (n):\n",
        "    y = random.uniform(0, 10)\n",
        "    y_hat = random.uniform(0, 10)\n",
        "    loss = abs(y - y_hat)\n",
        "    sum_loss += abs(y - y_hat)\n",
        "    print (f'loss name: MAE, sample {range(n).index(i)}, target {y}, pred {y_hat}, loss {loss} ')\n",
        "  print (f'final loss value {loss/n}')\n",
        "  return loss / n\n",
        "\n",
        "mae_calc(5)"
      ],
      "metadata": {
        "colab": {
          "base_uri": "https://localhost:8080/"
        },
        "id": "Jut8rRkT-glu",
        "outputId": "a8d03a22-6632-43fe-a6d3-4057f3eab03c"
      },
      "execution_count": 5,
      "outputs": [
        {
          "output_type": "stream",
          "name": "stdout",
          "text": [
            "loss name: MAE, sample 0, target 7.3999836788764615, pred 3.848129304425191, loss 3.5518543744512705 \n",
            "loss name: MAE, sample 1, target 3.741131993798489, pred 1.2378808929281226, loss 2.5032511008703664 \n",
            "loss name: MAE, sample 2, target 7.442313227589784, pred 2.074421148075322, loss 5.367892079514462 \n",
            "loss name: MAE, sample 3, target 1.4422026591928128, pred 4.209335050362744, loss 2.767132391169931 \n",
            "loss name: MAE, sample 4, target 0.8478409833056988, pred 7.269745785793451, loss 6.421904802487752 \n",
            "final loss value 1.2843809604975505\n"
          ]
        },
        {
          "output_type": "execute_result",
          "data": {
            "text/plain": [
              "1.2843809604975505"
            ]
          },
          "metadata": {},
          "execution_count": 5
        }
      ]
    },
    {
      "cell_type": "code",
      "source": [
        "#Tu luan 4\n",
        "\n",
        "def factorial(n):\n",
        "    if n == 0:\n",
        "        return 1\n",
        "    else:\n",
        "        for i in range(1,n):\n",
        "          n *= i\n",
        "        return n\n",
        "\n",
        "def appro_sin(x,n):\n",
        "  sum = 0\n",
        "  for i in range (n):\n",
        "    sum += (-1)**i * (x**(2*i+1)) / factorial(2*i+1)\n",
        "  return sum\n",
        "def appro_cos(x,n):\n",
        "  sum = 0\n",
        "  for i in range (n):\n",
        "    sum += (-1)**i * (x**(2*i)) / factorial(2*i)\n",
        "  return sum\n",
        "\n",
        "def appro_sinh(x,n):\n",
        "  sum = 0\n",
        "  for i in range (n):\n",
        "    sum += (x**(2*i+1)) / factorial(2*i+1)\n",
        "  return sum\n",
        "\n",
        "def appro_cosh(x,n):\n",
        "  sum = 0\n",
        "  for i in range (n):\n",
        "    sum += (x**(2*i)) / factorial(2*i)\n",
        "  return sum\n",
        "\n",
        "print(appro_sin(3.14, 10))\n",
        "print(appro_cos(3.14, 10))\n",
        "print(appro_sinh(3.14, 10))\n",
        "print(appro_cosh(3.14, 10))\n",
        "\n",
        "\n"
      ],
      "metadata": {
        "colab": {
          "base_uri": "https://localhost:8080/"
        },
        "id": "mFhl6-aW30_i",
        "outputId": "8e08c8dd-a3f1-4b83-cd28-01418048c3ae"
      },
      "execution_count": null,
      "outputs": [
        {
          "output_type": "stream",
          "name": "stdout",
          "text": [
            "0.001592652393160744\n",
            "-0.9999987352210833\n",
            "11.530292029865986\n",
            "11.573574824666185\n"
          ]
        }
      ]
    },
    {
      "cell_type": "code",
      "source": [
        "#tu luan 5\n",
        "def md_nre(y,y_hat,n,p):\n",
        "  return 1/1 * (y**(1/n) - y_hat**(1/n))**p\n",
        "\n",
        "md_nre( y =50 , y_hat =49.5 , n =2 , p =1)"
      ],
      "metadata": {
        "colab": {
          "base_uri": "https://localhost:8080/"
        },
        "id": "rFFhx-ulc4JQ",
        "outputId": "f79d3350-44fa-4999-becc-b4917efd9c58"
      },
      "execution_count": null,
      "outputs": [
        {
          "output_type": "execute_result",
          "data": {
            "text/plain": [
              "0.03544417213033135"
            ]
          },
          "metadata": {},
          "execution_count": 23
        }
      ]
    },
    {
      "cell_type": "code",
      "execution_count": null,
      "metadata": {
        "colab": {
          "base_uri": "https://localhost:8080/"
        },
        "id": "soq-pwN767gY",
        "outputId": "714deecc-48b7-4bac-ad3b-f6b7c6d80e75"
      },
      "outputs": [
        {
          "output_type": "stream",
          "name": "stdout",
          "text": [
            "0.31\n"
          ]
        }
      ],
      "source": [
        "import math\n",
        "def calc_f1_score ( tp , fp , fn ) :\n",
        "    precision = tp/(tp+fp)\n",
        "    recall = tp/(tp+fn)\n",
        "    f1_score = 2*(precision*recall)/(precision+recall)\n",
        "    return f1_score\n",
        "\n",
        "assert round ( calc_f1_score ( tp =2 , fp =3 , fn =5) , 2) == 0.33\n",
        "print ( round ( calc_f1_score ( tp =2 , fp =4 , fn =5) , 2) )\n",
        "#1:c"
      ]
    },
    {
      "cell_type": "code",
      "source": [
        "def is_number(x) :\n",
        "  try:\n",
        "    float(x)\n",
        "    return True\n",
        "  except ValueError:\n",
        "    return False\n",
        "assert is_number (3) == 1.0\n",
        "assert is_number (' -2a') == 0.0\n",
        "print ( is_number (1) )\n",
        "print ( is_number ('n') )\n",
        "#2:b\n",
        "#3:c"
      ],
      "metadata": {
        "id": "t5SQAUkj8UB8",
        "colab": {
          "base_uri": "https://localhost:8080/"
        },
        "outputId": "af1bfd58-2305-4323-e88c-bd716c27f122"
      },
      "execution_count": null,
      "outputs": [
        {
          "output_type": "stream",
          "name": "stdout",
          "text": [
            "True\n",
            "False\n"
          ]
        }
      ]
    },
    {
      "cell_type": "code",
      "source": [
        "import math\n",
        "def sigmoid(x):\n",
        "    return 1 / (1 + math.exp(-x))\n",
        "assert round ( sigmoid(3) , 2) ==0.95\n",
        "print ( round ( sigmoid(3) , 2) )\n",
        "#4:a"
      ],
      "metadata": {
        "colab": {
          "base_uri": "https://localhost:8080/"
        },
        "id": "fZaXblOitPkX",
        "outputId": "67c234d7-5712-4018-daef-ee7954d1f6dc"
      },
      "execution_count": null,
      "outputs": [
        {
          "output_type": "stream",
          "name": "stdout",
          "text": [
            "0.95\n"
          ]
        }
      ]
    },
    {
      "cell_type": "code",
      "source": [
        "import math\n",
        "def elu(x):\n",
        "    a = 0.01\n",
        "    if x > 0:\n",
        "        return x\n",
        "    else:\n",
        "        return a*(math.exp(x) - 1)\n",
        "\n",
        "assert round ( elu(1),2 ) ==1\n",
        "print (round (elu(-1), 2))\n",
        "#5:b\n",
        "#6:a"
      ],
      "metadata": {
        "colab": {
          "base_uri": "https://localhost:8080/"
        },
        "id": "jqxdUwbFuIv2",
        "outputId": "474cdf26-dafb-4132-ce91-d3301bf2d8e2"
      },
      "execution_count": null,
      "outputs": [
        {
          "output_type": "stream",
          "name": "stdout",
          "text": [
            "-0.01\n"
          ]
        }
      ]
    },
    {
      "cell_type": "code",
      "source": [
        "def calc_ae (y , y_hat ) :\n",
        "    error = abs(y - y_hat)\n",
        "    return error\n",
        "y = 1\n",
        "y_hat = 6\n",
        "assert calc_ae (y , y_hat ) ==5\n",
        "y = 2\n",
        "y_hat = 9\n",
        "print ( calc_ae (y , y_hat ) )\n",
        "#7:a"
      ],
      "metadata": {
        "colab": {
          "base_uri": "https://localhost:8080/"
        },
        "id": "Z_Ef1eGavoes",
        "outputId": "d5d5259b-1e76-4449-cbb8-affebe413e50"
      },
      "execution_count": null,
      "outputs": [
        {
          "output_type": "stream",
          "name": "stdout",
          "text": [
            "7\n"
          ]
        }
      ]
    },
    {
      "cell_type": "code",
      "source": [
        "def calc_se (y , y_hat ) :\n",
        "    error = (y - y_hat)**2\n",
        "    return error\n",
        "y = 4\n",
        "y_hat = 2\n",
        "assert calc_se (y , y_hat ) == 4\n",
        "print ( calc_se (2 , 1) )\n",
        "\n",
        "#8:a"
      ],
      "metadata": {
        "colab": {
          "base_uri": "https://localhost:8080/"
        },
        "id": "Q9XfsA3lvxcz",
        "outputId": "6904aecf-3711-4dd3-9eb9-3abaa1c01b8e"
      },
      "execution_count": null,
      "outputs": [
        {
          "output_type": "stream",
          "name": "stdout",
          "text": [
            "1\n"
          ]
        }
      ]
    },
    {
      "cell_type": "code",
      "source": [
        "def approx_cos (x , n ) :\n",
        "  sum = 0\n",
        "  for i in range (n):\n",
        "    sum += (-1)**i * (x**(2*i)) / factorial(2*i)\n",
        "  return sum\n",
        "\n",
        "assert round ( approx_cos ( x =1 , n =10) , 2) ==0.54\n",
        "print ( round ( approx_cos ( x =3.14 , n =10) , 2) )\n",
        "#9:c"
      ],
      "metadata": {
        "colab": {
          "base_uri": "https://localhost:8080/"
        },
        "id": "EBWQCMSdwWVK",
        "outputId": "c07824b2-2f4a-4b7c-c8e4-5d61e73c9d62"
      },
      "execution_count": null,
      "outputs": [
        {
          "output_type": "stream",
          "name": "stdout",
          "text": [
            "-1.0\n"
          ]
        }
      ]
    },
    {
      "cell_type": "code",
      "source": [
        "def approx_sin (x , n ) :\n",
        "  sum = 0\n",
        "  for i in range (n):\n",
        "    sum += (-1)**i * (x**(2*i+1)) / factorial(2*i+1)\n",
        "  return sum\n",
        "\n",
        "assert round ( approx_sin ( x =1 , n =10) , 4) ==0.8415\n",
        "print ( round ( approx_sin ( x =3.14 , n =10) , 4) )\n",
        "#10:a"
      ],
      "metadata": {
        "colab": {
          "base_uri": "https://localhost:8080/"
        },
        "id": "kQUMdLtWwqt3",
        "outputId": "0622754f-4d4f-4688-ebbc-944e3d063825"
      },
      "execution_count": null,
      "outputs": [
        {
          "output_type": "stream",
          "name": "stdout",
          "text": [
            "0.0016\n"
          ]
        }
      ]
    },
    {
      "cell_type": "code",
      "source": [
        "def approx_sinh (x , n ) :\n",
        "  sum = 0\n",
        "  for i in range (n):\n",
        "    sum += (x**(2*i+1)) / factorial(2*i+1)\n",
        "  return sum\n",
        "assert round ( approx_sinh ( x =1 , n =10) , 2) ==1.18\n",
        "print ( round ( approx_sinh ( x =3.14 , n =10) , 2) )\n",
        "#11:a"
      ],
      "metadata": {
        "colab": {
          "base_uri": "https://localhost:8080/"
        },
        "id": "jbG-Zdv6w-lA",
        "outputId": "cf2a89ff-2754-464a-eaa9-1b4d24f05c5b"
      },
      "execution_count": null,
      "outputs": [
        {
          "output_type": "stream",
          "name": "stdout",
          "text": [
            "11.53\n"
          ]
        }
      ]
    },
    {
      "cell_type": "code",
      "source": [
        "def approx_cosh (x , n ) :\n",
        "  sum = 0\n",
        "  for i in range (n):\n",
        "    sum += (x**(2*i)) / factorial(2*i)\n",
        "  return sum\n",
        "assert round ( approx_cosh ( x =1 , n =10) , 2) ==1.54\n",
        "print ( round ( approx_cosh ( x =3.14 , n =10) , 2) )\n",
        "#12:a\n",
        "#13:a"
      ],
      "metadata": {
        "colab": {
          "base_uri": "https://localhost:8080/"
        },
        "id": "GAvnw5TlxJaE",
        "outputId": "a9ab73e8-6b5b-4813-f3f1-b4643967fb8e"
      },
      "execution_count": null,
      "outputs": [
        {
          "output_type": "stream",
          "name": "stdout",
          "text": [
            "11.57\n"
          ]
        }
      ]
    },
    {
      "cell_type": "code",
      "source": [],
      "metadata": {
        "id": "i257UbzyxTMU"
      },
      "execution_count": null,
      "outputs": []
    }
  ]
}