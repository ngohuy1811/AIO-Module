{
  "nbformat": 4,
  "nbformat_minor": 0,
  "metadata": {
    "colab": {
      "provenance": [],
      "authorship_tag": "ABX9TyMr7x9TjD06qZXr8RBHLFKA",
      "include_colab_link": true
    },
    "kernelspec": {
      "name": "python3",
      "display_name": "Python 3"
    },
    "language_info": {
      "name": "python"
    }
  },
  "cells": [
    {
      "cell_type": "markdown",
      "metadata": {
        "id": "view-in-github",
        "colab_type": "text"
      },
      "source": [
        "<a href=\"https://colab.research.google.com/github/ngohuy1811/AIO-Module/blob/main/baitap_week2.ipynb\" target=\"_parent\"><img src=\"https://colab.research.google.com/assets/colab-badge.svg\" alt=\"Open In Colab\"/></a>"
      ]
    },
    {
      "cell_type": "code",
      "execution_count": null,
      "metadata": {
        "colab": {
          "base_uri": "https://localhost:8080/"
        },
        "id": "yXdiP25LNm_h",
        "outputId": "357b46f6-4bd6-40d5-a90e-f7d5527450cd"
      },
      "outputs": [
        {
          "output_type": "execute_result",
          "data": {
            "text/plain": [
              "[5, 5, 5, 5, 10, 12, 33, 33]"
            ]
          },
          "metadata": {},
          "execution_count": 28
        }
      ],
      "source": [
        "#Tu luan 1\n",
        "def slide_window(num_list, k):\n",
        "    max_window = []\n",
        "    if k <= 0 or k > len(num_list):\n",
        "        print(\"k must be greater than 0 and less than length of the list!\")\n",
        "    else:\n",
        "      for i in range(len(num_list) - k + 1):\n",
        "        window = num_list[i:i + k]\n",
        "        max_window.append(max(window))\n",
        "      return (max_window)\n",
        "\n",
        "num_list = [3, 4, 5, 1, -44, 5, 10, 12, 33, 1]\n",
        "k = 3\n",
        "slide_window(num_list, k)\n"
      ]
    },
    {
      "cell_type": "code",
      "source": [
        "#Tu luan 2\n",
        "def count_chars(string):\n",
        "  char_count = {}\n",
        "  for char in string:\n",
        "    if char in char_count:\n",
        "      char_count[char] += 1\n",
        "    else:\n",
        "      char_count[char] = 1\n",
        "  sorted_dict_by_keys = dict(sorted(char_count.items()))\n",
        "  return sorted_dict_by_keys\n",
        "\n",
        "a = \"Happiness\"\n",
        "b = \"smiles\"\n",
        "print(count_chars(a))\n",
        "print(count_chars(b))"
      ],
      "metadata": {
        "colab": {
          "base_uri": "https://localhost:8080/"
        },
        "id": "gDlzUasoUXi0",
        "outputId": "772beb22-e6fe-413b-cf15-2eee4ac5f03d"
      },
      "execution_count": null,
      "outputs": [
        {
          "output_type": "stream",
          "name": "stdout",
          "text": [
            "{'H': 1, 'a': 1, 'e': 1, 'i': 1, 'n': 1, 'p': 2, 's': 2}\n",
            "{'e': 1, 'i': 1, 'l': 1, 'm': 1, 's': 2}\n"
          ]
        }
      ]
    },
    {
      "cell_type": "code",
      "source": [
        "!gdown https://drive.google.com/uc?id=1IBScGdW2xlNsc9v5zSAya548kNgiOrko\n"
      ],
      "metadata": {
        "colab": {
          "base_uri": "https://localhost:8080/"
        },
        "id": "DkFa6HvFv3EN",
        "outputId": "8e65ee57-353a-427d-9b91-d3484f8389cb"
      },
      "execution_count": null,
      "outputs": [
        {
          "output_type": "stream",
          "name": "stdout",
          "text": [
            "Downloading...\n",
            "From: https://drive.google.com/uc?id=1IBScGdW2xlNsc9v5zSAya548kNgiOrko\n",
            "To: /content/P1_data.txt\n",
            "\r  0% 0.00/747 [00:00<?, ?B/s]\r100% 747/747 [00:00<00:00, 1.37MB/s]\n"
          ]
        }
      ]
    },
    {
      "cell_type": "code",
      "source": [
        "#Tu luan 3\n",
        "def count_words(file_path):\n",
        "    count = {}\n",
        "    with open(file_path, 'r') as file:\n",
        "        for line in file:\n",
        "            words = line.lower().split()\n",
        "            for word in words:\n",
        "                if word.isalpha():\n",
        "                    if word in count:\n",
        "                        count[word] += 1\n",
        "                    else:\n",
        "                        count[word] = 1\n",
        "    sorted_dict_by_keys = dict(sorted(count.items()))\n",
        "    return sorted_dict_by_keys\n",
        "\n",
        "count_words('/content/P1_data.txt')\n"
      ],
      "metadata": {
        "colab": {
          "base_uri": "https://localhost:8080/"
        },
        "id": "dM2BNw74v8xc",
        "outputId": "37e0026c-a1c5-4091-ea3f-ac3e744e3417"
      },
      "execution_count": null,
      "outputs": [
        {
          "output_type": "execute_result",
          "data": {
            "text/plain": [
              "{'a': 7,\n",
              " 'again': 1,\n",
              " 'and': 1,\n",
              " 'are': 1,\n",
              " 'at': 1,\n",
              " 'be': 1,\n",
              " 'become': 2,\n",
              " 'bricks': 1,\n",
              " 'busy': 1,\n",
              " 'but': 1,\n",
              " 'came': 1,\n",
              " 'can': 3,\n",
              " 'cannot': 1,\n",
              " 'change': 1,\n",
              " 'comes': 2,\n",
              " 'conquers': 1,\n",
              " 'courage': 1,\n",
              " 'day': 1,\n",
              " 'different': 1,\n",
              " 'employed': 1,\n",
              " 'enough': 1,\n",
              " 'everything': 1,\n",
              " 'firm': 1,\n",
              " 'for': 3,\n",
              " 'foundation': 1,\n",
              " 'from': 1,\n",
              " 'get': 2,\n",
              " 'have': 1,\n",
              " 'he': 1,\n",
              " 'help': 1,\n",
              " 'him': 1,\n",
              " 'himself': 1,\n",
              " 'his': 2,\n",
              " 'if': 1,\n",
              " 'in': 4,\n",
              " 'is': 3,\n",
              " 'it': 2,\n",
              " 'just': 2,\n",
              " 'kind': 1,\n",
              " 'lay': 1,\n",
              " 'life': 2,\n",
              " 'looking': 1,\n",
              " 'majority': 1,\n",
              " 'makes': 1,\n",
              " 'man': 6,\n",
              " 'mightiest': 1,\n",
              " 'mistakes': 1,\n",
              " 'morning': 1,\n",
              " 'not': 1,\n",
              " 'of': 4,\n",
              " 'one': 4,\n",
              " 'opportunity': 1,\n",
              " 'other': 1,\n",
              " 'others': 1,\n",
              " 'people': 1,\n",
              " 'positive': 1,\n",
              " 'problems': 1,\n",
              " 'profit': 1,\n",
              " 'rather': 1,\n",
              " 'ready': 1,\n",
              " 'secret': 1,\n",
              " 'small': 1,\n",
              " 'solve': 1,\n",
              " 'success': 3,\n",
              " 'successful': 2,\n",
              " 'the': 5,\n",
              " 'them': 1,\n",
              " 'they': 1,\n",
              " 'thinking': 1,\n",
              " 'those': 1,\n",
              " 'thought': 1,\n",
              " 'thrown': 1,\n",
              " 'to': 3,\n",
              " 'too': 1,\n",
              " 'try': 2,\n",
              " 'up': 1,\n",
              " 'usually': 1,\n",
              " 'value': 1,\n",
              " 'want': 2,\n",
              " 'warrior': 1,\n",
              " 'way': 1,\n",
              " 'we': 3,\n",
              " 'what': 1,\n",
              " 'when': 2,\n",
              " 'who': 3,\n",
              " 'whole': 1,\n",
              " 'will': 2,\n",
              " 'with': 4,\n",
              " 'you': 3,\n",
              " 'your': 1}"
            ]
          },
          "metadata": {},
          "execution_count": 25
        }
      ]
    },
    {
      "cell_type": "code",
      "source": [
        "#Tu luan 4:\n",
        "def levenshtein_distance(source, target):\n",
        "    M = len(source1)+1\n",
        "    N = len(target)+1\n",
        "\n",
        "    D = [[0] * (m + 1) for _ in range(n + 1)]\n",
        "    for i in range(n + 1):\n",
        "        matrix[i][0] = i\n",
        "    for j in range(m + 1):\n",
        "        matrix[0][j] = j\n",
        "\n",
        "    for i in range(1, n + 1):\n",
        "        for j in range(1, m + 1):\n",
        "            cost = 0 if str1[i - 1] == str2[j - 1] else 1\n",
        "            matrix[i][j] = min(matrix[i - 1][j] + 1,       # Deletion\n",
        "                               matrix[i][j - 1] + 1,       # Insertion\n",
        "                               matrix[i - 1][j - 1] + cost) # Substitution\n",
        "\n",
        "    return matrix[n][m]"
      ],
      "metadata": {
        "id": "azkt1azZC3Tp"
      },
      "execution_count": null,
      "outputs": []
    },
    {
      "cell_type": "code",
      "source": [
        "#Tu luan 4:\n",
        "def levenshtein(source, target):\n",
        "    row = len(source)+1\n",
        "    col = len(target)+1\n",
        "\n",
        "    D = [[0]* col for _ in range(row)]\n",
        "    for c in range(col):\n",
        "        D[0][c] = c\n",
        "    for r in range(row):\n",
        "        D[r][0] = r\n",
        "\n",
        "    for r in range(1, row):\n",
        "        for c in range(1, col):\n",
        "            cost = 0 if source[r-1] == target[c-1] else 1\n",
        "            D[r][c] = min(D[r-1][c]+1, D[r][c-1]+1, D[r-1][c-1]+cost)\n",
        "    return D[-1][-1]\n",
        "\n",
        "levenshtein('yu', 'you')\n",
        "\n",
        ""
      ],
      "metadata": {
        "colab": {
          "base_uri": "https://localhost:8080/"
        },
        "id": "rCnDXOt-gSud",
        "outputId": "594138f5-d9b8-4c1c-b772-1c8609dcd7c0"
      },
      "execution_count": 15,
      "outputs": [
        {
          "output_type": "execute_result",
          "data": {
            "text/plain": [
              "1"
            ]
          },
          "metadata": {},
          "execution_count": 15
        }
      ]
    },
    {
      "cell_type": "code",
      "source": [
        "c = [0]*3\n",
        "print(c)"
      ],
      "metadata": {
        "colab": {
          "base_uri": "https://localhost:8080/"
        },
        "id": "RBamSmxxhdOi",
        "outputId": "f85ef549-78c1-4986-a89a-4e071972b4ae"
      },
      "execution_count": 4,
      "outputs": [
        {
          "output_type": "stream",
          "name": "stdout",
          "text": [
            "[0, 0, 0]\n"
          ]
        }
      ]
    },
    {
      "cell_type": "code",
      "source": [
        "#Trac nghiem 1: a\n",
        "def max_kernel ( num_list , k ) :\n",
        "    result = []\n",
        "    if k <= 0 or k > len(num_list):\n",
        "        print(\"k must be greater than 0 and less than length of the list!\")\n",
        "    else:\n",
        "      for i in range(len(num_list) - k + 1):\n",
        "        window = num_list[i:i + k]\n",
        "        result.append(max(window))\n",
        "      return (result)\n",
        "\n",
        "\n",
        "\n",
        "\n",
        "\n",
        "\n",
        "\n",
        "assert max_kernel ([3 , 4 , 5 , 1 , -44] , 3) == [5 , 5 , 5]\n",
        "num_list = [3 , 4 , 5 , 1 , -44 , 5 ,10 , 12 ,33 , 1]\n",
        "k = 3\n",
        "print ( max_kernel ( num_list , k ) )\n"
      ],
      "metadata": {
        "colab": {
          "base_uri": "https://localhost:8080/"
        },
        "id": "DxNcT1G4up2p",
        "outputId": "5e4d83c9-cc14-4997-de7c-35dc2c5b9984"
      },
      "execution_count": null,
      "outputs": [
        {
          "output_type": "stream",
          "name": "stdout",
          "text": [
            "[5, 5, 5, 5, 10, 12, 33, 33]\n"
          ]
        }
      ]
    },
    {
      "cell_type": "code",
      "source": [
        "#Trac nghiem 2: a\n",
        "def character_count ( word ) :\n",
        "  character_statistic = {}\n",
        "  for char in word:\n",
        "    if char in character_statistic:\n",
        "      character_statistic[char] += 1\n",
        "    else:\n",
        "      character_statistic[char] = 1\n",
        "  return character_statistic\n",
        "\n",
        "assert character_count (\"Baby\") == {'B': 1 , 'a': 1 , 'b': 1 , 'y': 1}\n",
        "print ( character_count ('smiles') )"
      ],
      "metadata": {
        "colab": {
          "base_uri": "https://localhost:8080/"
        },
        "id": "9W0JOqTNx_Wr",
        "outputId": "1d7bc4a1-0033-4d16-c335-dd2c103f5f46"
      },
      "execution_count": null,
      "outputs": [
        {
          "output_type": "stream",
          "name": "stdout",
          "text": [
            "{'s': 2, 'm': 1, 'i': 1, 'l': 1, 'e': 1}\n"
          ]
        }
      ]
    },
    {
      "cell_type": "code",
      "source": [
        "!gdown https://drive.google.com/uc?id=1IBScGdW2xlNsc9v5zSAya548kNgiOrko"
      ],
      "metadata": {
        "colab": {
          "base_uri": "https://localhost:8080/"
        },
        "id": "AxI3ZEh3z06H",
        "outputId": "a69239e9-f6ad-4782-d357-c71b1da5b9e2"
      },
      "execution_count": null,
      "outputs": [
        {
          "output_type": "stream",
          "name": "stdout",
          "text": [
            "Downloading...\n",
            "From: https://drive.google.com/uc?id=1IBScGdW2xlNsc9v5zSAya548kNgiOrko\n",
            "To: /content/P1_data.txt\n",
            "\r  0% 0.00/747 [00:00<?, ?B/s]\r100% 747/747 [00:00<00:00, 1.58MB/s]\n"
          ]
        }
      ]
    },
    {
      "cell_type": "code",
      "source": [
        "#Trac nghiem 3: c\n",
        "\n",
        "def count_word ( file_path ) :\n",
        "    counter = {}\n",
        "    with open(file_path, 'r') as file:\n",
        "        for line in file:\n",
        "            words = line.lower().split()\n",
        "            for word in words:\n",
        "                if word.isalpha():\n",
        "                    if word in counter:\n",
        "                        counter[word] += 1\n",
        "                    else:\n",
        "                        counter[word] = 1\n",
        "    sorted_dict_by_keys = dict(sorted(counter.items()))\n",
        "    return sorted_dict_by_keys\n",
        "\n",
        "file_path = '/content/P1_data.txt'\n",
        "result = count_word ( file_path )\n",
        "assert result ['who'] == 3\n",
        "print ( result ['man'])"
      ],
      "metadata": {
        "colab": {
          "base_uri": "https://localhost:8080/"
        },
        "id": "1hs3XfBWzCXf",
        "outputId": "8d00a661-9c6e-416c-81c9-18b26d3e4bc7"
      },
      "execution_count": null,
      "outputs": [
        {
          "output_type": "stream",
          "name": "stdout",
          "text": [
            "6\n"
          ]
        }
      ]
    },
    {
      "cell_type": "code",
      "source": [
        "#Trac nghiem 4: c\n",
        "\n",
        "def levenshtein(source, target):\n",
        "    row = len(source)+1\n",
        "    col = len(target)+1\n",
        "\n",
        "    D = [[0]* col for _ in range(row)]\n",
        "    for c in range(col):\n",
        "        D[0][c] = c\n",
        "    for r in range(row):\n",
        "        D[r][0] = r\n",
        "\n",
        "    for r in range(1, row):\n",
        "        for c in range(1, col):\n",
        "            cost = 0 if source[r-1] == target[c-1] else 1\n",
        "            D[r][c] = min(D[r-1][c]+1, D[r][c-1]+1, D[r-1][c-1]+cost)\n",
        "    return D[-1][-1]\n",
        "\n",
        "assert levenshtein(\"hi\", \"hello\") == 4.0\n",
        "print (levenshtein(\"hola\", \"hello\"))"
      ],
      "metadata": {
        "id": "D4QeZyytC6Su",
        "colab": {
          "base_uri": "https://localhost:8080/"
        },
        "outputId": "1051e2c1-1ed6-417a-bb9e-3f1d4226542d"
      },
      "execution_count": 17,
      "outputs": [
        {
          "output_type": "stream",
          "name": "stdout",
          "text": [
            "3\n"
          ]
        }
      ]
    },
    {
      "cell_type": "code",
      "source": [
        "#Trac nghiem 5: a\n",
        "def check_the_number ( N ) :\n",
        "  list_of_numbers = []\n",
        "  result = \"\"\n",
        "  for i in range (1,5) :\n",
        "    list_of_numbers.append(i)\n",
        "#Su dung append them i vao trong list_of_number\n",
        "    if N in list_of_numbers :\n",
        "      results = \" True \"\n",
        "    if N not in list_of_numbers :\n",
        "      results = \" False \"\n",
        "  return results\n",
        "N = 7\n",
        "assert check_the_number ( N ) == \" False \"\n",
        "N= 2\n",
        "result = check_the_number ( N )\n",
        "print ( result )"
      ],
      "metadata": {
        "colab": {
          "base_uri": "https://localhost:8080/"
        },
        "id": "Je8FbSyYz6ai",
        "outputId": "7a3bbafe-9079-4972-f48b-a3dda5adbbd1"
      },
      "execution_count": null,
      "outputs": [
        {
          "output_type": "stream",
          "name": "stdout",
          "text": [
            " True \n"
          ]
        }
      ]
    },
    {
      "cell_type": "code",
      "source": [
        "#Trac nghiem 6: c\n",
        "def my_function(data, max, min):\n",
        "    result = []\n",
        "    for i in data:\n",
        "        if i < min:\n",
        "            result.append(min)\n",
        "        elif i > max:\n",
        "            result.append(max)\n",
        "        else:\n",
        "            result.append(i)\n",
        "    return result\n",
        "\n",
        "\n",
        "my_list = [5, 2, 5, 0, 1]\n",
        "max_value = 1\n",
        "min_value = 0\n",
        "print(my_function(data=my_list, max=max_value, min=min_value))\n",
        "\n",
        "my_list = [10, 2, 5, 0, 1]\n",
        "max_value = 2\n",
        "min_value = 1\n",
        "print(my_function(data=my_list, max=max_value, min=min_value))"
      ],
      "metadata": {
        "colab": {
          "base_uri": "https://localhost:8080/"
        },
        "id": "MNV6_s7W09Ww",
        "outputId": "cc089646-4434-4ef4-ca70-c713203b8026"
      },
      "execution_count": null,
      "outputs": [
        {
          "output_type": "stream",
          "name": "stdout",
          "text": [
            "[1, 1, 1, 0, 1]\n",
            "[2, 2, 2, 1, 1]\n"
          ]
        }
      ]
    },
    {
      "cell_type": "code",
      "source": [
        "#Trac nghiem 7: c\n",
        "def my_function (x , y ) :\n",
        "  x.extend(y)\n",
        "  return x\n",
        "\n",
        "list_num1 = ['a', 2 , 5]\n",
        "list_num2 = [1 , 1]\n",
        "list_num3 = [0 , 0]\n",
        "\n",
        "assert my_function (list_num1 , my_function (list_num2,list_num3)) == ['a', 2 , 5 , 1 , 1 , 0 , 0]\n",
        "\n",
        "list_num1 = [1 , 2]\n",
        "list_num2 = [3 , 4]\n",
        "list_num3 = [0 , 0]\n",
        "\n",
        "print ( my_function ( list_num1 , my_function ( list_num2 , list_num3 ) ) )"
      ],
      "metadata": {
        "colab": {
          "base_uri": "https://localhost:8080/"
        },
        "id": "9m08jdHy2ATP",
        "outputId": "56cbb668-fe2b-4632-ef9e-56293339ab1f"
      },
      "execution_count": null,
      "outputs": [
        {
          "output_type": "stream",
          "name": "stdout",
          "text": [
            "[1, 2, 3, 4, 0, 0]\n"
          ]
        }
      ]
    },
    {
      "cell_type": "code",
      "source": [
        "#Trac nghiem 8: c\n",
        "def my_function ( n ) :\n",
        "    mini = min(n)\n",
        "    return mini\n",
        "\n",
        "\n",
        "my_list = [1 , 22 , 93 , -100]\n",
        "assert my_function ( my_list ) == -100\n",
        "\n",
        "my_list = [1 , 2 , 3 , -1]\n",
        "print ( my_function ( my_list ) )"
      ],
      "metadata": {
        "colab": {
          "base_uri": "https://localhost:8080/"
        },
        "id": "q1qMef353mtM",
        "outputId": "f1814db7-df72-40cb-8761-3b439a2e04e0"
      },
      "execution_count": null,
      "outputs": [
        {
          "output_type": "stream",
          "name": "stdout",
          "text": [
            "-1\n"
          ]
        }
      ]
    },
    {
      "cell_type": "code",
      "source": [
        "#Trac nghiem 9: d\n",
        "def my_function ( n ) :\n",
        "    maxi = max(n)\n",
        "    return maxi\n",
        "\n",
        "\n",
        "my_list = [1001, 9 , 100 , 0]\n",
        "assert my_function ( my_list ) == 1001\n",
        "\n",
        "my_list = [1 , 9 , 9 , 0]\n",
        "print ( my_function ( my_list ) )"
      ],
      "metadata": {
        "colab": {
          "base_uri": "https://localhost:8080/"
        },
        "id": "3xhlhtv85-7V",
        "outputId": "a6cb8f61-1dd0-4d39-fba2-f999f10ca212"
      },
      "execution_count": null,
      "outputs": [
        {
          "output_type": "stream",
          "name": "stdout",
          "text": [
            "9\n"
          ]
        }
      ]
    },
    {
      "cell_type": "code",
      "source": [
        "#Trac nghiem 10: c\n",
        "def My_function ( integers , number = 1) :\n",
        " return any(x == number for x in integers)\n",
        "\n",
        "my_list = [1 , 3 , 9 , 4]\n",
        "assert My_function ( my_list , -1) == False\n",
        "\n",
        "my_list = [1 , 2 , 3 , 4]\n",
        "print ( My_function ( my_list , 2) )"
      ],
      "metadata": {
        "colab": {
          "base_uri": "https://localhost:8080/"
        },
        "id": "y2GyU-716jOU",
        "outputId": "f9d95c6c-0921-4721-e942-31976c3f992b"
      },
      "execution_count": null,
      "outputs": [
        {
          "output_type": "stream",
          "name": "stdout",
          "text": [
            "True\n"
          ]
        }
      ]
    },
    {
      "cell_type": "code",
      "source": [
        "#Trac ngiem 11: a\n",
        "def my_function ( list_nums = [0 , 1 , 2]) :\n",
        "  var = 0\n",
        "  for i in list_nums :\n",
        "    var += i\n",
        "  return var / len(list_nums)# Your code here : Tra ve gia tri trung binh cua list bang cach chia var cho so luong phan tu trong list_mums\n",
        "\n",
        "assert my_function ([4 , 6 , 8]) == 6\n",
        "print ( my_function () )"
      ],
      "metadata": {
        "colab": {
          "base_uri": "https://localhost:8080/"
        },
        "id": "WIg8sDKc7fqc",
        "outputId": "6efbdec9-2c2c-4e9b-cd1a-56b2456d01be"
      },
      "execution_count": null,
      "outputs": [
        {
          "output_type": "stream",
          "name": "stdout",
          "text": [
            "1.0\n"
          ]
        }
      ]
    },
    {
      "cell_type": "code",
      "source": [
        "#Trac nghiem 12: a\n",
        "def my_function ( data ) :\n",
        "  var = []\n",
        "  for i in data :\n",
        "    if i % 3 == 0 :\n",
        "      var.append(i)\n",
        "  return var\n",
        "\n",
        "assert my_function ([3,9,4,5]) == [3, 9]\n",
        "print ( my_function ([1 , 2 , 3 , 5 , 6]) )"
      ],
      "metadata": {
        "colab": {
          "base_uri": "https://localhost:8080/"
        },
        "id": "K7Nhv3z38L9x",
        "outputId": "2686216f-4da7-4571-fcbb-19208ad6208d"
      },
      "execution_count": null,
      "outputs": [
        {
          "output_type": "stream",
          "name": "stdout",
          "text": [
            "[3, 6]\n"
          ]
        }
      ]
    },
    {
      "cell_type": "code",
      "source": [
        "#Trac nghiem 13: c\n",
        "def my_function ( y ) :\n",
        "  var = 1\n",
        "  while ( y > 1) :\n",
        "    var *= y\n",
        "    y -= 1\n",
        "  return var\n",
        "assert my_function (8) == 40320\n",
        "print ( my_function (4) )"
      ],
      "metadata": {
        "colab": {
          "base_uri": "https://localhost:8080/"
        },
        "id": "CvKqVTDt8yMd",
        "outputId": "5ed6f769-fc71-4866-b677-cfbf0f25d1fc"
      },
      "execution_count": null,
      "outputs": [
        {
          "output_type": "stream",
          "name": "stdout",
          "text": [
            "24\n"
          ]
        }
      ]
    },
    {
      "cell_type": "code",
      "source": [
        "#Trac nghiem 14: b\n",
        "def my_function ( x ) :\n",
        "  return x[::-1]\n",
        "\n",
        "x = 'I can do it'\n",
        "assert my_function (x ) == 'ti od nac I'\n",
        "\n",
        "x = 'apricot'\n",
        "print ( my_function (x ) )"
      ],
      "metadata": {
        "colab": {
          "base_uri": "https://localhost:8080/"
        },
        "id": "OcxHuhyH9yEF",
        "outputId": "3bfb2003-c686-4c66-d1f9-d7b1a82fa5a9"
      },
      "execution_count": null,
      "outputs": [
        {
          "output_type": "stream",
          "name": "stdout",
          "text": [
            "tocirpa\n"
          ]
        }
      ]
    },
    {
      "cell_type": "code",
      "source": [
        "#Trac nghiem 15: c\n",
        "def function_helper ( x ) :\n",
        "  if x > 0 :\n",
        "    return 'T'\n",
        "  else :\n",
        "    return 'N'\n",
        "\n",
        "def my_function ( data ) :\n",
        "  res = [ function_helper ( x ) for x in data ]\n",
        "  return res\n",
        "data = [10 , 0 , -10 , -1]\n",
        "assert my_function ( data ) == ['T', 'N', 'N', 'N']\n",
        "\n",
        "data = [2 , 3 , 5 , -1]\n",
        "print ( my_function ( data ) )\n"
      ],
      "metadata": {
        "colab": {
          "base_uri": "https://localhost:8080/"
        },
        "id": "W_4lhJ_Q-ccX",
        "outputId": "5b3b72b9-38c3-4792-fdfb-f326ce34471a"
      },
      "execution_count": null,
      "outputs": [
        {
          "output_type": "stream",
          "name": "stdout",
          "text": [
            "['T', 'T', 'T', 'N']\n"
          ]
        }
      ]
    },
    {
      "cell_type": "code",
      "source": [
        "#Trac nghiem 16: a\n",
        "def function_helper (x , data ) :\n",
        "  for i in data :\n",
        "    if x == i :\n",
        "      return 0\n",
        "  return 1\n",
        "def my_function ( data ) :\n",
        "  res = []\n",
        "  for i in data :\n",
        "    if function_helper (i , res ) :\n",
        "      res.append ( i )\n",
        "  return res\n",
        "\n",
        "lst = [10 , 10 , 9 , 7 , 7]\n",
        "assert my_function ( lst ) == [10 , 9 , 7]\n",
        "\n",
        "lst = [9 , 9 , 8 , 1 , 1]\n",
        "print ( my_function ( lst ) )"
      ],
      "metadata": {
        "colab": {
          "base_uri": "https://localhost:8080/"
        },
        "id": "wNzVH96g_Ahm",
        "outputId": "2abc7973-ca62-4f77-f4cf-8164a4f70aa2"
      },
      "execution_count": null,
      "outputs": [
        {
          "output_type": "stream",
          "name": "stdout",
          "text": [
            "[9, 8, 1]\n"
          ]
        }
      ]
    }
  ]
}